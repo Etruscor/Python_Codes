{
  "nbformat": 4,
  "nbformat_minor": 0,
  "metadata": {
    "colab": {
      "name": "NameCheck.ipynb",
      "provenance": [],
      "authorship_tag": "ABX9TyMEUGCYgUewoxP2Gwkg+cAe",
      "include_colab_link": true
    },
    "kernelspec": {
      "name": "python3",
      "display_name": "Python 3"
    },
    "language_info": {
      "name": "python"
    }
  },
  "cells": [
    {
      "cell_type": "markdown",
      "metadata": {
        "id": "view-in-github",
        "colab_type": "text"
      },
      "source": [
        "<a href=\"https://colab.research.google.com/github/Etruscor/Python_Codes/blob/main/NameCheck.ipynb\" target=\"_parent\"><img src=\"https://colab.research.google.com/assets/colab-badge.svg\" alt=\"Open In Colab\"/></a>"
      ]
    },
    {
      "cell_type": "code",
      "source": [
        "from difflib import SequenceMatcher\n",
        "import pandas as pd\n",
        "\n",
        "name_data = {}\n",
        "name_check = {}\n",
        "\n",
        "def similar(a, b):\n",
        "    return SequenceMatcher(None, a, b).ratio()\n",
        "\n",
        "def check_name(dict_item):\n",
        "    for y in name_data:\n",
        "     ratio = similar(name_data[y][\"Name\"].upper(),dict_item[\"Name\"].upper()) \n",
        "     if ratio > dict_item[\"Ratio\"]:\n",
        "      dict_item[\"F_Name\"] = name_data[y][\"Name\"]\n",
        "      dict_item[\"Ratio\"] = ratio\n",
        "\n",
        "file_path = \"/content/NOMES.xlsx\"\n",
        "data_set = pd.read_excel(file_path)\n",
        "\n",
        "name_data = { key: {\"Name\" : value} for key, value in data_set[\"NOME SAGI\"].items()}\n",
        "name_check = {key: {\"Name\" : value,\"F_Name\": \"\",\"Ratio\": 0} for key, value in data_set[\"LISTA INGRESSON\"].items()}\n",
        "\n",
        "for x in name_check:\n",
        "  check_name(name_check[x])\n",
        "  \n",
        "data_frame = pd.DataFrame.from_dict(name_check,orient = \"index\")\n",
        "data_frame.to_csv(\"data.csv\")\n",
        "\n"
      ],
      "metadata": {
        "id": "IIk3juvLfv_U"
      },
      "execution_count": 40,
      "outputs": []
    }
  ]
}